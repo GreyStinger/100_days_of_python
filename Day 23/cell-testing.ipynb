{
 "cells": [
  {
   "cell_type": "code",
   "execution_count": 1,
   "id": "e97d33e4",
   "metadata": {},
   "outputs": [],
   "source": [
    "import time\n",
    "import random\n",
    "from turtle import Turtle, Screen"
   ]
  },
  {
   "cell_type": "code",
   "execution_count": 2,
   "id": "6adcc78a",
   "metadata": {},
   "outputs": [],
   "source": [
    "COLORS = [\"red\", \"orange\", \"yellow\", \"green\", \"blue\", \"purple\"]\n",
    "STARTING_MOVE_DISTANCE = 5\n",
    "MOVE_INCREMENT = 10\n",
    "\n",
    "\n",
    "class CarManager:\n",
    "    def __init__(self):\n",
    "        self.cars = []\n",
    "    \n",
    "    def create_car(self):\n",
    "        car = Turtle()\n",
    "        car.color(random.choice(COLORS))\n",
    "        car.speed('fast')\n",
    "        self.cars.append(car)\n",
    "\n",
    "    def move_cars(self):\n",
    "        for car in self.cars:\n",
    "            car.goto(car.xcor() - 10)"
   ]
  },
  {
   "cell_type": "code",
   "execution_count": 3,
   "id": "4d4fb4d7",
   "metadata": {},
   "outputs": [],
   "source": [
    "PENSIZE = 2\n",
    "\n",
    "\n",
    "class Border(Turtle):\n",
    "    def __init__(self):\n",
    "        super().__init__()\n",
    "        self.hideturtle()\n",
    "        self.color('blue')\n",
    "        self.penup()\n",
    "        self.speed('fast')\n",
    "        self.pensize(PENSIZE)\n",
    "\n",
    "    def draw_main(self):\n",
    "        self.draw_border()\n",
    "\n",
    "    def draw_border(self):\n",
    "        x_cords = -296\n",
    "        y_cords = 256\n",
    "        for _ in range(2):\n",
    "            self.goto(x_cords, y_cords)\n",
    "            self.setheading(90)\n",
    "            self.pendown()\n",
    "            self.forward(280)\n",
    "            self.penup()\n",
    "            self.forward(32)\n",
    "            self.pendown()\n",
    "            self.forward(280)\n",
    "            self.penup()\n",
    "            y_cords *= -1\n",
    "\n",
    "    def draw_goals(self, level):\n",
    "        # Draw start and finish and draw level\n",
    "        pass"
   ]
  },
  {
   "cell_type": "code",
   "execution_count": 4,
   "id": "c9330661",
   "metadata": {},
   "outputs": [],
   "source": [
    "STARTING_POSITION = (0, -280)\n",
    "MOVE_DISTANCE = 10\n",
    "FINISH_LINE_Y = 280\n",
    "\n",
    "\n",
    "class Player(Turtle):\n",
    "    def __init__(self):\n",
    "        super().__init__()\n",
    "        self.shape('turtle')\n",
    "        self.penup()\n",
    "        self.color('black')\n",
    "        self.goto(STARTING_POSITION)"
   ]
  },
  {
   "cell_type": "code",
   "execution_count": 5,
   "id": "03aeac90",
   "metadata": {},
   "outputs": [],
   "source": [
    "screen = Screen()\n",
    "screen.setup(width=600, height=600)\n",
    "screen.tracer(0)\n",
    "screen.title('Turtle Crossing')\n",
    "screen.mode('logo')"
   ]
  },
  {
   "cell_type": "code",
   "execution_count": 6,
   "id": "1de0e8bc",
   "metadata": {},
   "outputs": [],
   "source": [
    "border = Border()\n",
    "border.draw_main()"
   ]
  },
  {
   "cell_type": "code",
   "execution_count": 7,
   "id": "8fbf1af4",
   "metadata": {},
   "outputs": [],
   "source": [
    "screen.update()"
   ]
  },
  {
   "cell_type": "code",
   "execution_count": 8,
   "id": "9fd96f58",
   "metadata": {},
   "outputs": [],
   "source": [
    "car_manager = CarManager()"
   ]
  },
  {
   "cell_type": "code",
   "execution_count": 9,
   "id": "416ceabb",
   "metadata": {},
   "outputs": [],
   "source": [
    "car_manager.create_car()"
   ]
  },
  {
   "cell_type": "code",
   "execution_count": 10,
   "id": "ce5ad36f",
   "metadata": {},
   "outputs": [
    {
     "name": "stdout",
     "output_type": "stream",
     "text": [
      "[<turtle.Turtle object at 0x0000013AF6030B80>]\n"
     ]
    }
   ],
   "source": [
    "print(car_manager.cars)"
   ]
  }
 ],
 "metadata": {
  "kernelspec": {
   "display_name": "Python 3",
   "language": "python",
   "name": "python3"
  },
  "language_info": {
   "codemirror_mode": {
    "name": "ipython",
    "version": 3
   },
   "file_extension": ".py",
   "mimetype": "text/x-python",
   "name": "python",
   "nbconvert_exporter": "python",
   "pygments_lexer": "ipython3",
   "version": "3.9.2"
  }
 },
 "nbformat": 4,
 "nbformat_minor": 5
}
