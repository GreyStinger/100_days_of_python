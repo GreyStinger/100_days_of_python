{
 "cells": [
  {
   "cell_type": "code",
   "execution_count": 1,
   "id": "ded749af",
   "metadata": {},
   "outputs": [],
   "source": [
    "import time\n",
    "import random\n",
    "import concurrent.futures\n",
    "from turtle import Turtle, Screen"
   ]
  },
  {
   "cell_type": "code",
   "execution_count": 2,
   "id": "479908a8",
   "metadata": {},
   "outputs": [],
   "source": [
    "COLORS = [\"red\", \"orange\", \"yellow\", \"green\", \"blue\", \"purple\"]\n",
    "STARTING_MOVE_DISTANCE = 5\n",
    "MOVE_INCREMENT = 10\n",
    "\n",
    "\n",
    "def find_pos():\n",
    "    return 296, 24 * round(random.randint(-240, 240) / 24)\n",
    "\n",
    "\n",
    "class CarManager:\n",
    "    def __init__(self):\n",
    "        self.cars = []\n",
    "\n",
    "    def create_car(self):\n",
    "        car = Turtle()\n",
    "        car.shape('square')\n",
    "        car.penup()\n",
    "        car.color(random.choice(COLORS))\n",
    "        car.speed('fast')\n",
    "        car.goto(find_pos())\n",
    "        self.cars.append(car)\n",
    "\n",
    "    def move_cars(self):\n",
    "        for car in self.cars:\n",
    "            car.goto(car.xcor() - 10, car.ycor())"
   ]
  },
  {
   "cell_type": "code",
   "execution_count": 3,
   "id": "3d0c939f",
   "metadata": {},
   "outputs": [],
   "source": [
    "PENSIZE = 2\n",
    "\n",
    "\n",
    "class Border(Turtle):\n",
    "    def __init__(self):\n",
    "        super().__init__()\n",
    "        self.hideturtle()\n",
    "        self.color('blue')\n",
    "        self.penup()\n",
    "        self.speed('fast')\n",
    "        self.pensize(PENSIZE)\n",
    "\n",
    "    def draw_main(self):\n",
    "        self.draw_border()\n",
    "\n",
    "    def draw_border(self):\n",
    "        x_cords = -296\n",
    "        y_cords = 256\n",
    "        for _ in range(2):\n",
    "            self.goto(x_cords, y_cords)\n",
    "            self.setheading(90)\n",
    "            self.pendown()\n",
    "            self.forward(280)\n",
    "            self.penup()\n",
    "            self.forward(32)\n",
    "            self.pendown()\n",
    "            self.forward(280)\n",
    "            self.penup()\n",
    "            y_cords *= -1\n",
    "\n",
    "    def draw_goals(self, level):\n",
    "        # Draw start and finish and draw level\n",
    "        pass"
   ]
  },
  {
   "cell_type": "code",
   "execution_count": 4,
   "id": "4a7ce82d",
   "metadata": {},
   "outputs": [],
   "source": [
    "STARTING_POSITION = (0, -280)\n",
    "MOVE_DISTANCE = 10\n",
    "FINISH_LINE_Y = 280\n",
    "\n",
    "\n",
    "class Player(Turtle):\n",
    "    def __init__(self):\n",
    "        super().__init__()\n",
    "        self.shape('turtle')\n",
    "        self.penup()\n",
    "        self.color('black')\n",
    "        self.goto(STARTING_POSITION)"
   ]
  },
  {
   "cell_type": "code",
   "execution_count": null,
   "id": "2a333d8b",
   "metadata": {},
   "outputs": [],
   "source": [
    "class Threader(threading.Thread)\n",
    "    def __init__()\n",
    "        super().__init__()\n",
    "        \n",
    "    def run()\n",
    "        time.sleep(1)\n",
    "        return True"
   ]
  },
  {
   "cell_type": "code",
   "execution_count": 5,
   "id": "abf46eb1",
   "metadata": {},
   "outputs": [],
   "source": [
    "screen = Screen()\n",
    "screen.setup(width=600, height=600)\n",
    "screen.tracer(0)\n",
    "screen.title('Turtle Crossing')\n",
    "screen.mode('logo')\n",
    "\n",
    "border = Border()\n",
    "border.draw_main()\n",
    "\n",
    "screen.update()\n",
    "\n",
    "car_manager = CarManager()"
   ]
  },
  {
   "cell_type": "code",
   "execution_count": 442,
   "id": "f36ff428",
   "metadata": {},
   "outputs": [],
   "source": [
    "if random.randint(1, 2) == 1:\n",
    "    for _ in range (random.randint(1, 2)):\n",
    "        car_manager.create_car()\n",
    "        \n",
    "car_manager.move_cars()\n",
    "screen.update()"
   ]
  },
  {
   "cell_type": "code",
   "execution_count": 13,
   "id": "c5644d21",
   "metadata": {},
   "outputs": [],
   "source": [
    "for _ in range(100):\n",
    "    screen.update()\n",
    "    time.sleep(0.1)"
   ]
  }
 ],
 "metadata": {
  "kernelspec": {
   "display_name": "Python 3",
   "language": "python",
   "name": "python3"
  },
  "language_info": {
   "codemirror_mode": {
    "name": "ipython",
    "version": 3
   },
   "file_extension": ".py",
   "mimetype": "text/x-python",
   "name": "python",
   "nbconvert_exporter": "python",
   "pygments_lexer": "ipython3",
   "version": "3.9.2"
  }
 },
 "nbformat": 4,
 "nbformat_minor": 5
}
